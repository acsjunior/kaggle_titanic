{
 "cells": [
  {
   "cell_type": "code",
   "execution_count": 1,
   "id": "occupational-cable",
   "metadata": {},
   "outputs": [],
   "source": [
    "import pandas as pd\n",
    "import numpy as np\n",
    "import os\n",
    "from sklearn.ensemble import GradientBoostingClassifier\n",
    "from sklearn.metrics import accuracy_score, roc_auc_score, recall_score, precision_score, roc_curve, precision_recall_curve\n",
    "from sklearn.model_selection import GridSearchCV, RandomizedSearchCV, cross_val_score, StratifiedKFold\n",
    "\n",
    "import matplotlib.pylab as plt\n",
    "%matplotlib inline\n",
    "from matplotlib.pylab import rcParams\n",
    "rcParams['figure.figsize'] = 15, 8"
   ]
  },
  {
   "cell_type": "code",
   "execution_count": 2,
   "id": "mighty-personal",
   "metadata": {},
   "outputs": [],
   "source": [
    "BASE_DIR = os.path.abspath(os.path.join(os.path.abspath(\".\"), os.pardir))\n",
    "DATA_DIR = os.path.join(BASE_DIR, 'data')\n",
    "SEED=2"
   ]
  },
  {
   "cell_type": "code",
   "execution_count": 3,
   "id": "extraordinary-tuner",
   "metadata": {},
   "outputs": [],
   "source": [
    "df_train = pd.read_csv(os.path.join(DATA_DIR, 'processed_train.csv'))\n",
    "df_test = pd.read_csv(os.path.join(DATA_DIR, 'processed_test.csv'))"
   ]
  },
  {
   "cell_type": "markdown",
   "id": "transparent-walter",
   "metadata": {},
   "source": [
    "# Modelo base"
   ]
  },
  {
   "cell_type": "code",
   "execution_count": 4,
   "id": "partial-olympus",
   "metadata": {},
   "outputs": [],
   "source": [
    "features = [x for x in df_train.columns if x not in ['PassengerId', 'Survived']]\n",
    "X = df_train[features]\n",
    "y = df_train['Survived']"
   ]
  },
  {
   "cell_type": "code",
   "execution_count": 5,
   "id": "passing-clark",
   "metadata": {},
   "outputs": [
    {
     "name": "stderr",
     "output_type": "stream",
     "text": [
      "[Parallel(n_jobs=-1)]: Using backend LokyBackend with 8 concurrent workers.\n"
     ]
    },
    {
     "name": "stdout",
     "output_type": "stream",
     "text": [
      "AUC: [0.88 0.85 0.86 0.88 0.89]\n",
      "AUC mean: 0.8711\n",
      "AUC std: 0.0130\n"
     ]
    },
    {
     "name": "stderr",
     "output_type": "stream",
     "text": [
      "[Parallel(n_jobs=-1)]: Done   2 out of   5 | elapsed:    1.0s remaining:    1.5s\n",
      "[Parallel(n_jobs=-1)]: Done   5 out of   5 | elapsed:    1.1s finished\n"
     ]
    }
   ],
   "source": [
    "kfold = StratifiedKFold(n_splits=5, shuffle=True, random_state=SEED)\n",
    "model = GradientBoostingClassifier(random_state=SEED)\n",
    "scores = cross_val_score(model, X, y, cv=kfold, n_jobs=-1, verbose=1, scoring='roc_auc')\n",
    "\n",
    "print('AUC:', np.round(scores, 2))\n",
    "print('AUC mean: %0.4f' % (scores.mean()))\n",
    "print('AUC std: %0.4f' % (scores.std()))"
   ]
  },
  {
   "cell_type": "code",
   "execution_count": 6,
   "id": "rapid-dublin",
   "metadata": {},
   "outputs": [
    {
     "data": {
      "text/plain": [
       "Text(0, 0.5, 'Feature Importance Score')"
      ]
     },
     "execution_count": 6,
     "metadata": {},
     "output_type": "execute_result"
    },
    {
     "data": {
      "image/png": "[encoded data removed]",
      "text/plain": [
       "<Figure size 1080x576 with 1 Axes>"
      ]
     },
     "metadata": {
      "needs_background": "light"
     },
     "output_type": "display_data"
    }
   ],
   "source": [
    "model.fit(X, y)\n",
    "feat_imp = pd.Series(model.feature_importances_, features).sort_values(ascending=False)\n",
    "feat_imp.plot(kind='bar', title='Feature Importances')\n",
    "plt.ylabel('Feature Importance Score')"
   ]
  },
  {
   "cell_type": "markdown",
   "id": "speaking-pillow",
   "metadata": {},
   "source": [
    "# Modelo 001"
   ]
  },
  {
   "cell_type": "markdown",
   "id": "careful-recording",
   "metadata": {},
   "source": [
    "## Tuning"
   ]
  },
  {
   "cell_type": "code",
   "execution_count": 7,
   "id": "official-chicago",
   "metadata": {},
   "outputs": [],
   "source": [
    "def grid_search(X_train, y_train,params, random=False, k=5, scoring='roc_auc'):\n",
    "    kfold = StratifiedKFold(n_splits=k, shuffle=True, random_state=SEED)\n",
    "    clf = GradientBoostingClassifier(random_state=SEED)\n",
    "    \n",
    "    if random:\n",
    "        grid = RandomizedSearchCV(clf, params, cv=kfold, n_iter=20, n_jobs=-1, scoring=scoring)\n",
    "    else:\n",
    "        grid = GridSearchCV(clf, params, cv=kfold, n_jobs=-1, scoring=scoring)\n",
    "    \n",
    "    grid.fit(X_train, y_train)\n",
    "    \n",
    "    best_score = grid.best_score_\n",
    "    print(\"Metric:\", scoring)\n",
    "    print(\"Training score: {:.3f}\".format(best_score))\n",
    "    best_params = grid.best_params_\n",
    "    print(\"Best params:\", best_params)\n",
    "    \n",
    "    x = grid.cv_results_ \n",
    "    mean_fit_time = x['mean_fit_time'].mean()\n",
    "    std_fit_time = x['std_fit_time'].mean()\n",
    "    mean_score_time = x['mean_score_time'].mean()\n",
    "    std_score_time = x['std_score_time'].mean()\n",
    "    mean_test_score = x['mean_test_score'].mean()\n",
    "    std_test_score = x['std_test_score'].mean()\n",
    "    \n",
    "    print(\"\\n\")\n",
    "    print('mean_fit_time:', mean_fit_time)\n",
    "    print('std_fit_time:', std_fit_time)\n",
    "    print('mean_score_time:', mean_score_time)\n",
    "    print('std_score_time:', std_score_time)\n",
    "    print('mean_test_score:', mean_test_score)\n",
    "    print('std_test_score:', std_test_score)"
   ]
  },
  {
   "cell_type": "code",
   "execution_count": 8,
   "id": "manual-burner",
   "metadata": {},
   "outputs": [],
   "source": [
    "params = {}"
   ]
  },
  {
   "cell_type": "code",
   "execution_count": 9,
   "id": "departmental-continuity",
   "metadata": {},
   "outputs": [],
   "source": [
    "params['n_estimators'] = [2, 10, 25, 50, 100, 250, 500, 1000]\n",
    "params['learning_rate'] = [0.1]"
   ]
  },
  {
   "cell_type": "code",
   "execution_count": 10,
   "id": "saving-tolerance",
   "metadata": {},
   "outputs": [
    {
     "data": {
      "text/plain": [
       "{'n_estimators': [2, 10, 25, 50, 100, 250, 500, 1000], 'learning_rate': [0.1]}"
      ]
     },
     "execution_count": 10,
     "metadata": {},
     "output_type": "execute_result"
    }
   ],
   "source": [
    "params"
   ]
  },
  {
   "cell_type": "code",
   "execution_count": 11,
   "id": "ambient-forwarding",
   "metadata": {},
   "outputs": [
    {
     "name": "stdout",
     "output_type": "stream",
     "text": [
      "Metric: roc_auc\n",
      "Training score: 0.873\n",
      "Best params: {'learning_rate': 0.1, 'n_estimators': 50}\n",
      "\n",
      "\n",
      "mean_fit_time: 0.2481625318527222\n",
      "std_fit_time: 0.017367827111608093\n",
      "mean_score_time: 0.004131847620010376\n",
      "std_score_time: 0.001305735083645467\n",
      "mean_test_score: 0.8659350218674698\n",
      "std_test_score: 0.020361131618172563\n"
     ]
    }
   ],
   "source": [
    "grid_search(X, y, params)"
   ]
  },
  {
   "cell_type": "code",
   "execution_count": 12,
   "id": "touched-greenhouse",
   "metadata": {},
   "outputs": [],
   "source": [
    "params['n_estimators'] = range(25, 80, 5)"
   ]
  },
  {
   "cell_type": "code",
   "execution_count": 13,
   "id": "determined-agriculture",
   "metadata": {},
   "outputs": [
    {
     "data": {
      "text/plain": [
       "{'n_estimators': range(25, 80, 5), 'learning_rate': [0.1]}"
      ]
     },
     "execution_count": 13,
     "metadata": {},
     "output_type": "execute_result"
    }
   ],
   "source": [
    "params"
   ]
  },
  {
   "cell_type": "code",
   "execution_count": 14,
   "id": "double-fence",
   "metadata": {},
   "outputs": [
    {
     "name": "stdout",
     "output_type": "stream",
     "text": [
      "Metric: roc_auc\n",
      "Training score: 0.874\n",
      "Best params: {'learning_rate': 0.1, 'n_estimators': 55}\n",
      "\n",
      "\n",
      "mean_fit_time: 0.05739880041642622\n",
      "std_fit_time: 0.006126491561311784\n",
      "mean_score_time: 0.003737575357610529\n",
      "std_score_time: 0.0013831056859469261\n",
      "mean_test_score: 0.8716850032677907\n",
      "std_test_score: 0.014834927109761918\n"
     ]
    }
   ],
   "source": [
    "grid_search(X, y, params)"
   ]
  },
  {
   "cell_type": "code",
   "execution_count": 15,
   "id": "beneficial-tournament",
   "metadata": {},
   "outputs": [],
   "source": [
    "params['n_estimators'] = range(45, 65, 1)"
   ]
  },
  {
   "cell_type": "code",
   "execution_count": 16,
   "id": "marked-county",
   "metadata": {},
   "outputs": [
    {
     "data": {
      "text/plain": [
       "{'n_estimators': range(45, 65), 'learning_rate': [0.1]}"
      ]
     },
     "execution_count": 16,
     "metadata": {},
     "output_type": "execute_result"
    }
   ],
   "source": [
    "params"
   ]
  },
  {
   "cell_type": "code",
   "execution_count": 17,
   "id": "wrong-shore",
   "metadata": {},
   "outputs": [
    {
     "name": "stdout",
     "output_type": "stream",
     "text": [
      "Metric: roc_auc\n",
      "Training score: 0.874\n",
      "Best params: {'learning_rate': 0.1, 'n_estimators': 48}\n",
      "\n",
      "\n",
      "mean_fit_time: 0.061617531776428223\n",
      "std_fit_time: 0.008071188297313967\n",
      "mean_score_time: 0.0031172275543212896\n",
      "std_score_time: 0.0010717000099048813\n",
      "mean_test_score: 0.8733767070740251\n",
      "std_test_score: 0.014292172493233585\n"
     ]
    }
   ],
   "source": [
    "grid_search(X, y, params)"
   ]
  },
  {
   "cell_type": "code",
   "execution_count": 18,
   "id": "norman-sharp",
   "metadata": {},
   "outputs": [],
   "source": [
    "params['n_estimators'] = [48]\n",
    "params['min_samples_split'] = range(2, 51, 2)\n",
    "params['max_depth'] = range(1, 8, 1)"
   ]
  },
  {
   "cell_type": "code",
   "execution_count": 19,
   "id": "healthy-factory",
   "metadata": {},
   "outputs": [
    {
     "data": {
      "text/plain": [
       "{'n_estimators': [48],\n",
       " 'learning_rate': [0.1],\n",
       " 'min_samples_split': range(2, 51, 2),\n",
       " 'max_depth': range(1, 8)}"
      ]
     },
     "execution_count": 19,
     "metadata": {},
     "output_type": "execute_result"
    }
   ],
   "source": [
    "params"
   ]
  },
  {
   "cell_type": "code",
   "execution_count": 20,
   "id": "indian-valuable",
   "metadata": {},
   "outputs": [
    {
     "name": "stdout",
     "output_type": "stream",
     "text": [
      "Metric: roc_auc\n",
      "Training score: 0.878\n",
      "Best params: {'learning_rate': 0.1, 'max_depth': 4, 'min_samples_split': 2, 'n_estimators': 48}\n",
      "\n",
      "\n",
      "mean_fit_time: 0.06401029287065778\n",
      "std_fit_time: 0.006674286345419225\n",
      "mean_score_time: 0.0031405912126813615\n",
      "std_score_time: 0.0013511360612072816\n",
      "mean_test_score: 0.8705124772612747\n",
      "std_test_score: 0.0197292214885754\n"
     ]
    }
   ],
   "source": [
    "grid_search(X, y, params)"
   ]
  },
  {
   "cell_type": "code",
   "execution_count": 21,
   "id": "aboriginal-survey",
   "metadata": {},
   "outputs": [],
   "source": [
    "params['max_depth'] = [4]\n",
    "params['min_samples_leaf'] = range(1, 50, 2)"
   ]
  },
  {
   "cell_type": "code",
   "execution_count": 22,
   "id": "jewish-observation",
   "metadata": {},
   "outputs": [
    {
     "data": {
      "text/plain": [
       "{'n_estimators': [48],\n",
       " 'learning_rate': [0.1],\n",
       " 'min_samples_split': range(2, 51, 2),\n",
       " 'max_depth': [4],\n",
       " 'min_samples_leaf': range(1, 50, 2)}"
      ]
     },
     "execution_count": 22,
     "metadata": {},
     "output_type": "execute_result"
    }
   ],
   "source": [
    "params"
   ]
  },
  {
   "cell_type": "code",
   "execution_count": 23,
   "id": "distinguished-twenty",
   "metadata": {},
   "outputs": [
    {
     "name": "stdout",
     "output_type": "stream",
     "text": [
      "Metric: roc_auc\n",
      "Training score: 0.878\n",
      "Best params: {'learning_rate': 0.1, 'max_depth': 4, 'min_samples_leaf': 1, 'min_samples_split': 2, 'n_estimators': 48}\n",
      "\n",
      "\n",
      "mean_fit_time: 0.057595714340209964\n",
      "std_fit_time: 0.006776508010739849\n",
      "mean_score_time: 0.0029540802764892577\n",
      "std_score_time: 0.0012847000383577971\n",
      "mean_test_score: 0.8697009397914004\n",
      "std_test_score: 0.01747250437483668\n"
     ]
    }
   ],
   "source": [
    "grid_search(X, y, params)"
   ]
  },
  {
   "cell_type": "code",
   "execution_count": 24,
   "id": "differential-christopher",
   "metadata": {},
   "outputs": [
    {
     "data": {
      "text/plain": [
       "(891, 15)"
      ]
     },
     "execution_count": 24,
     "metadata": {},
     "output_type": "execute_result"
    }
   ],
   "source": [
    "X.shape"
   ]
  },
  {
   "cell_type": "code",
   "execution_count": 25,
   "id": "completed-column",
   "metadata": {},
   "outputs": [],
   "source": [
    "params['min_samples_leaf'] = [1]\n",
    "params['min_samples_split'] = [2]\n",
    "params['max_features'] = range(1,16,1)"
   ]
  },
  {
   "cell_type": "code",
   "execution_count": 26,
   "id": "iraqi-satellite",
   "metadata": {},
   "outputs": [
    {
     "data": {
      "text/plain": [
       "{'n_estimators': [48],\n",
       " 'learning_rate': [0.1],\n",
       " 'min_samples_split': [2],\n",
       " 'max_depth': [4],\n",
       " 'min_samples_leaf': [1],\n",
       " 'max_features': range(1, 16)}"
      ]
     },
     "execution_count": 26,
     "metadata": {},
     "output_type": "execute_result"
    }
   ],
   "source": [
    "params"
   ]
  },
  {
   "cell_type": "code",
   "execution_count": 27,
   "id": "cooked-smooth",
   "metadata": {},
   "outputs": [
    {
     "name": "stdout",
     "output_type": "stream",
     "text": [
      "Metric: roc_auc\n",
      "Training score: 0.878\n",
      "Best params: {'learning_rate': 0.1, 'max_depth': 4, 'max_features': 15, 'min_samples_leaf': 1, 'min_samples_split': 2, 'n_estimators': 48}\n",
      "\n",
      "\n",
      "mean_fit_time: 0.04928552309672038\n",
      "std_fit_time: 0.007425716835745882\n",
      "mean_score_time: 0.0025720246632893883\n",
      "std_score_time: 0.0007783490284294296\n",
      "mean_test_score: 0.8741081200801747\n",
      "std_test_score: 0.017266515005278798\n"
     ]
    }
   ],
   "source": [
    "grid_search(X, y, params)"
   ]
  },
  {
   "cell_type": "code",
   "execution_count": 28,
   "id": "unauthorized-support",
   "metadata": {},
   "outputs": [],
   "source": [
    "params['max_features'] = [15]\n",
    "params['subsample'] = [0.6,0.7,0.75,0.8,0.85,0.9]"
   ]
  },
  {
   "cell_type": "code",
   "execution_count": 29,
   "id": "empty-corner",
   "metadata": {},
   "outputs": [
    {
     "data": {
      "text/plain": [
       "{'n_estimators': [48],\n",
       " 'learning_rate': [0.1],\n",
       " 'min_samples_split': [2],\n",
       " 'max_depth': [4],\n",
       " 'min_samples_leaf': [1],\n",
       " 'max_features': [15],\n",
       " 'subsample': [0.6, 0.7, 0.75, 0.8, 0.85, 0.9]}"
      ]
     },
     "execution_count": 29,
     "metadata": {},
     "output_type": "execute_result"
    }
   ],
   "source": [
    "params"
   ]
  },
  {
   "cell_type": "code",
   "execution_count": 30,
   "id": "modified-motion",
   "metadata": {},
   "outputs": [
    {
     "name": "stdout",
     "output_type": "stream",
     "text": [
      "Metric: roc_auc\n",
      "Training score: 0.879\n",
      "Best params: {'learning_rate': 0.1, 'max_depth': 4, 'max_features': 15, 'min_samples_leaf': 1, 'min_samples_split': 2, 'n_estimators': 48, 'subsample': 0.8}\n",
      "\n",
      "\n",
      "mean_fit_time: 0.05932213465372721\n",
      "std_fit_time: 0.008779884514459083\n",
      "mean_score_time: 0.0024832884470621743\n",
      "std_score_time: 0.000876673838652851\n",
      "mean_test_score: 0.8746170431644633\n",
      "std_test_score: 0.01995084962179151\n"
     ]
    }
   ],
   "source": [
    "grid_search(X, y, params)"
   ]
  },
  {
   "cell_type": "code",
   "execution_count": 31,
   "id": "coupled-large",
   "metadata": {},
   "outputs": [],
   "source": [
    "params['subsample'] = [0.8]\n",
    "params['n_estimators'] = range(48, 200, 2)\n",
    "params['learning_rate'] = [0.001, 0.01, 0.1, 0.15, 0.2]"
   ]
  },
  {
   "cell_type": "code",
   "execution_count": 32,
   "id": "competitive-casting",
   "metadata": {},
   "outputs": [
    {
     "data": {
      "text/plain": [
       "{'n_estimators': range(48, 200, 2),\n",
       " 'learning_rate': [0.001, 0.01, 0.1, 0.15, 0.2],\n",
       " 'min_samples_split': [2],\n",
       " 'max_depth': [4],\n",
       " 'min_samples_leaf': [1],\n",
       " 'max_features': [15],\n",
       " 'subsample': [0.8]}"
      ]
     },
     "execution_count": 32,
     "metadata": {},
     "output_type": "execute_result"
    }
   ],
   "source": [
    "params"
   ]
  },
  {
   "cell_type": "code",
   "execution_count": 33,
   "id": "optimum-ground",
   "metadata": {
    "scrolled": true
   },
   "outputs": [
    {
     "name": "stdout",
     "output_type": "stream",
     "text": [
      "Metric: roc_auc\n",
      "Training score: 0.882\n",
      "Best params: {'learning_rate': 0.1, 'max_depth': 4, 'max_features': 15, 'min_samples_leaf': 1, 'min_samples_split': 2, 'n_estimators': 64, 'subsample': 0.8}\n",
      "\n",
      "\n",
      "mean_fit_time: 0.17315573642128393\n",
      "std_fit_time: 0.008998001330787897\n",
      "mean_score_time: 0.003472562714626915\n",
      "std_score_time: 0.0012681512894058837\n",
      "mean_test_score: 0.8742848170165286\n",
      "std_test_score: 0.022473642167008454\n"
     ]
    }
   ],
   "source": [
    "grid_search(X, y, params)"
   ]
  },
  {
   "cell_type": "markdown",
   "id": "moved-willow",
   "metadata": {},
   "source": [
    "## Modelo final"
   ]
  },
  {
   "cell_type": "code",
   "execution_count": 34,
   "id": "earlier-nancy",
   "metadata": {},
   "outputs": [
    {
     "name": "stdout",
     "output_type": "stream",
     "text": [
      "AUC: [0.9  0.85 0.88 0.89 0.9 ]\n",
      "AUC mean: 0.8825\n",
      "AUC std: 0.0173\n"
     ]
    },
    {
     "name": "stderr",
     "output_type": "stream",
     "text": [
      "[Parallel(n_jobs=-1)]: Using backend LokyBackend with 8 concurrent workers.\n",
      "[Parallel(n_jobs=-1)]: Done   2 out of   5 | elapsed:    0.1s remaining:    0.1s\n",
      "[Parallel(n_jobs=-1)]: Done   5 out of   5 | elapsed:    0.1s finished\n"
     ]
    }
   ],
   "source": [
    "kfold = StratifiedKFold(n_splits=5, shuffle=True, random_state=SEED)\n",
    "final_model = GradientBoostingClassifier(\n",
    "    random_state=SEED, learning_rate=0.1, max_depth=4, max_features=15, min_samples_leaf=1, min_samples_split=2, \n",
    "    n_estimators=64, subsample=0.8)\n",
    "scores = cross_val_score(final_model, X, y, cv=kfold, n_jobs=-1, verbose=1, scoring='roc_auc')\n",
    "\n",
    "print('AUC:', np.round(scores, 2))\n",
    "print('AUC mean: %0.4f' % (scores.mean()))\n",
    "print('AUC std: %0.4f' % (scores.std()))"
   ]
  },
  {
   "cell_type": "code",
   "execution_count": 35,
   "id": "least-sullivan",
   "metadata": {},
   "outputs": [
    {
     "data": {
      "text/plain": [
       "Text(0, 0.5, 'Feature Importance Score')"
      ]
     },
     "execution_count": 35,
     "metadata": {},
     "output_type": "execute_result"
    },
    {
     "data": {
      "image/png": "[encoded data removed]",
      "text/plain": [
       "<Figure size 1080x576 with 1 Axes>"
      ]
     },
     "metadata": {
      "needs_background": "light"
     },
     "output_type": "display_data"
    }
   ],
   "source": [
    "final_model.fit(X, y)\n",
    "feat_imp = pd.Series(final_model.feature_importances_, features).sort_values(ascending=False)\n",
    "feat_imp.plot(kind='bar', title='Feature Importances')\n",
    "plt.ylabel('Feature Importance Score')"
   ]
  },
  {
   "cell_type": "code",
   "execution_count": 36,
   "id": "formed-cornwall",
   "metadata": {},
   "outputs": [],
   "source": [
    "df_test['Survived'] = final_model.predict(df_test[features])"
   ]
  },
  {
   "cell_type": "code",
   "execution_count": 37,
   "id": "inclusive-improvement",
   "metadata": {},
   "outputs": [
    {
     "data": {
      "text/plain": [
       "0    270\n",
       "1    148\n",
       "Name: Survived, dtype: int64"
      ]
     },
     "execution_count": 37,
     "metadata": {},
     "output_type": "execute_result"
    }
   ],
   "source": [
    "df_test['Survived'].value_counts()"
   ]
  },
  {
   "cell_type": "code",
   "execution_count": 38,
   "id": "deluxe-stuff",
   "metadata": {},
   "outputs": [],
   "source": [
    "df_test[['PassengerId', 'Survived']].to_csv('gbm_001.csv', index=False)"
   ]
  },
  {
   "cell_type": "code",
   "execution_count": 39,
   "id": "educated-project",
   "metadata": {},
   "outputs": [],
   "source": [
    "# Kaggle score: 0.77511"
   ]
  },
  {
   "cell_type": "markdown",
   "id": "negative-liabilities",
   "metadata": {},
   "source": [
    "# Modelo 002"
   ]
  },
  {
   "cell_type": "code",
   "execution_count": 40,
   "id": "christian-minnesota",
   "metadata": {},
   "outputs": [],
   "source": [
    "best_feat = ['Fare', 'Sex_male', 'Title_Mr', 'Age', 'Pclass_3', 'Family_size']"
   ]
  },
  {
   "cell_type": "code",
   "execution_count": 41,
   "id": "convenient-motivation",
   "metadata": {},
   "outputs": [],
   "source": [
    "params={'learning_rate': [0.1], 'max_depth': [4], 'max_features': [6], 'min_samples_leaf': [1], \n",
    "        'min_samples_split': [2], 'n_estimators': [64], 'subsample': [0.8]}"
   ]
  },
  {
   "cell_type": "code",
   "execution_count": 42,
   "id": "found-resistance",
   "metadata": {},
   "outputs": [
    {
     "data": {
      "text/plain": [
       "{'learning_rate': [0.1],\n",
       " 'max_depth': [4],\n",
       " 'max_features': [6],\n",
       " 'min_samples_leaf': [1],\n",
       " 'min_samples_split': [2],\n",
       " 'n_estimators': [64],\n",
       " 'subsample': [0.8]}"
      ]
     },
     "execution_count": 42,
     "metadata": {},
     "output_type": "execute_result"
    }
   ],
   "source": [
    "params"
   ]
  },
  {
   "cell_type": "code",
   "execution_count": 43,
   "id": "honey-panama",
   "metadata": {},
   "outputs": [],
   "source": [
    "X_002 = X[best_feat]"
   ]
  },
  {
   "cell_type": "code",
   "execution_count": 44,
   "id": "auburn-festival",
   "metadata": {},
   "outputs": [
    {
     "data": {
      "text/html": [
       "<div>\n",
       "<style scoped>\n",
       "    .dataframe tbody tr th:only-of-type {\n",
       "        vertical-align: middle;\n",
       "    }\n",
       "\n",
       "    .dataframe tbody tr th {\n",
       "        vertical-align: top;\n",
       "    }\n",
       "\n",
       "    .dataframe thead th {\n",
       "        text-align: right;\n",
       "    }\n",
       "</style>\n",
       "<table border=\"1\" class=\"dataframe\">\n",
       "  <thead>\n",
       "    <tr style=\"text-align: right;\">\n",
       "      <th></th>\n",
       "      <th>Fare</th>\n",
       "      <th>Sex_male</th>\n",
       "      <th>Title_Mr</th>\n",
       "      <th>Age</th>\n",
       "      <th>Pclass_3</th>\n",
       "      <th>Family_size</th>\n",
       "    </tr>\n",
       "  </thead>\n",
       "  <tbody>\n",
       "    <tr>\n",
       "      <th>0</th>\n",
       "      <td>7.2500</td>\n",
       "      <td>1</td>\n",
       "      <td>1</td>\n",
       "      <td>22.0</td>\n",
       "      <td>1</td>\n",
       "      <td>2</td>\n",
       "    </tr>\n",
       "    <tr>\n",
       "      <th>1</th>\n",
       "      <td>71.2833</td>\n",
       "      <td>0</td>\n",
       "      <td>0</td>\n",
       "      <td>38.0</td>\n",
       "      <td>0</td>\n",
       "      <td>2</td>\n",
       "    </tr>\n",
       "    <tr>\n",
       "      <th>2</th>\n",
       "      <td>7.9250</td>\n",
       "      <td>0</td>\n",
       "      <td>0</td>\n",
       "      <td>26.0</td>\n",
       "      <td>1</td>\n",
       "      <td>1</td>\n",
       "    </tr>\n",
       "    <tr>\n",
       "      <th>3</th>\n",
       "      <td>53.1000</td>\n",
       "      <td>0</td>\n",
       "      <td>0</td>\n",
       "      <td>35.0</td>\n",
       "      <td>0</td>\n",
       "      <td>2</td>\n",
       "    </tr>\n",
       "    <tr>\n",
       "      <th>4</th>\n",
       "      <td>8.0500</td>\n",
       "      <td>1</td>\n",
       "      <td>1</td>\n",
       "      <td>35.0</td>\n",
       "      <td>1</td>\n",
       "      <td>1</td>\n",
       "    </tr>\n",
       "  </tbody>\n",
       "</table>\n",
       "</div>"
      ],
      "text/plain": [
       "      Fare  Sex_male  Title_Mr   Age  Pclass_3  Family_size\n",
       "0   7.2500         1         1  22.0         1            2\n",
       "1  71.2833         0         0  38.0         0            2\n",
       "2   7.9250         0         0  26.0         1            1\n",
       "3  53.1000         0         0  35.0         0            2\n",
       "4   8.0500         1         1  35.0         1            1"
      ]
     },
     "execution_count": 44,
     "metadata": {},
     "output_type": "execute_result"
    }
   ],
   "source": [
    "X_002.head()"
   ]
  },
  {
   "cell_type": "markdown",
   "id": "blind-wheat",
   "metadata": {},
   "source": [
    "## Base"
   ]
  },
  {
   "cell_type": "code",
   "execution_count": 45,
   "id": "adverse-certificate",
   "metadata": {},
   "outputs": [
    {
     "name": "stdout",
     "output_type": "stream",
     "text": [
      "AUC: [0.88 0.83 0.87 0.88 0.89]\n",
      "AUC mean: 0.8716\n",
      "AUC std: 0.0209\n"
     ]
    },
    {
     "name": "stderr",
     "output_type": "stream",
     "text": [
      "[Parallel(n_jobs=-1)]: Using backend LokyBackend with 8 concurrent workers.\n",
      "[Parallel(n_jobs=-1)]: Done   2 out of   5 | elapsed:    0.1s remaining:    0.1s\n",
      "[Parallel(n_jobs=-1)]: Done   5 out of   5 | elapsed:    0.1s finished\n"
     ]
    }
   ],
   "source": [
    "kfold = StratifiedKFold(n_splits=5, shuffle=True, random_state=SEED)\n",
    "model_002 = GradientBoostingClassifier(\n",
    "    random_state=SEED, learning_rate=0.1, max_depth=4, max_features=6, min_samples_leaf=1, min_samples_split=2, \n",
    "    n_estimators=64, subsample=0.8)\n",
    "scores = cross_val_score(model_002, X_002, y, cv=kfold, n_jobs=-1, verbose=1, scoring='roc_auc')\n",
    "\n",
    "print('AUC:', np.round(scores, 2))\n",
    "print('AUC mean: %0.4f' % (scores.mean()))\n",
    "print('AUC std: %0.4f' % (scores.std()))"
   ]
  },
  {
   "cell_type": "code",
   "execution_count": 46,
   "id": "forward-smell",
   "metadata": {},
   "outputs": [
    {
     "data": {
      "text/plain": [
       "Text(0, 0.5, 'Feature Importance Score')"
      ]
     },
     "execution_count": 46,
     "metadata": {},
     "output_type": "execute_result"
    },
    {
     "data": {
      "image/png": "[encoded data removed]",
      "text/plain": [
       "<Figure size 1080x576 with 1 Axes>"
      ]
     },
     "metadata": {
      "needs_background": "light"
     },
     "output_type": "display_data"
    }
   ],
   "source": [
    "model_002.fit(X_002, y)\n",
    "feat_imp = pd.Series(model_002.feature_importances_, best_feat).sort_values(ascending=False)\n",
    "feat_imp.plot(kind='bar', title='Feature Importances')\n",
    "plt.ylabel('Feature Importance Score')"
   ]
  },
  {
   "cell_type": "markdown",
   "id": "intensive-continent",
   "metadata": {},
   "source": [
    "## Tuning"
   ]
  },
  {
   "cell_type": "code",
   "execution_count": 47,
   "id": "existing-world",
   "metadata": {},
   "outputs": [],
   "source": [
    "params['n_estimators'] = range(48, 145, 2)"
   ]
  },
  {
   "cell_type": "code",
   "execution_count": 48,
   "id": "sacred-binding",
   "metadata": {},
   "outputs": [
    {
     "data": {
      "text/plain": [
       "{'learning_rate': [0.1],\n",
       " 'max_depth': [4],\n",
       " 'max_features': [6],\n",
       " 'min_samples_leaf': [1],\n",
       " 'min_samples_split': [2],\n",
       " 'n_estimators': range(48, 145, 2),\n",
       " 'subsample': [0.8]}"
      ]
     },
     "execution_count": 48,
     "metadata": {},
     "output_type": "execute_result"
    }
   ],
   "source": [
    "params"
   ]
  },
  {
   "cell_type": "code",
   "execution_count": 49,
   "id": "funded-butter",
   "metadata": {},
   "outputs": [
    {
     "name": "stdout",
     "output_type": "stream",
     "text": [
      "Metric: roc_auc\n",
      "Training score: 0.874\n",
      "Best params: {'learning_rate': 0.1, 'max_depth': 4, 'max_features': 6, 'min_samples_leaf': 1, 'min_samples_split': 2, 'n_estimators': 88, 'subsample': 0.8}\n",
      "\n",
      "\n",
      "mean_fit_time: 0.12374725244483169\n",
      "std_fit_time: 0.008007742607658108\n",
      "mean_score_time: 0.003122171090573681\n",
      "std_score_time: 0.0010203307865286498\n",
      "mean_test_score: 0.872137289807318\n",
      "std_test_score: 0.021622890819984725\n"
     ]
    }
   ],
   "source": [
    "grid_search(X_002, y, params)"
   ]
  },
  {
   "cell_type": "code",
   "execution_count": 50,
   "id": "norman-first",
   "metadata": {},
   "outputs": [],
   "source": [
    "params['n_estimators'] = [88]\n",
    "params['min_samples_split'] = range(2, 51, 2)\n",
    "params['max_depth'] = range(1, 8, 1)"
   ]
  },
  {
   "cell_type": "code",
   "execution_count": 51,
   "id": "stupid-pharmaceutical",
   "metadata": {},
   "outputs": [
    {
     "data": {
      "text/plain": [
       "{'learning_rate': [0.1],\n",
       " 'max_depth': range(1, 8),\n",
       " 'max_features': [6],\n",
       " 'min_samples_leaf': [1],\n",
       " 'min_samples_split': range(2, 51, 2),\n",
       " 'n_estimators': [88],\n",
       " 'subsample': [0.8]}"
      ]
     },
     "execution_count": 51,
     "metadata": {},
     "output_type": "execute_result"
    }
   ],
   "source": [
    "params"
   ]
  },
  {
   "cell_type": "code",
   "execution_count": 52,
   "id": "random-dayton",
   "metadata": {},
   "outputs": [
    {
     "name": "stdout",
     "output_type": "stream",
     "text": [
      "Metric: roc_auc\n",
      "Training score: 0.878\n",
      "Best params: {'learning_rate': 0.1, 'max_depth': 4, 'max_features': 6, 'min_samples_leaf': 1, 'min_samples_split': 4, 'n_estimators': 88, 'subsample': 0.8}\n",
      "\n",
      "\n",
      "mean_fit_time: 0.11095423153468541\n",
      "std_fit_time: 0.0062602345512065925\n",
      "mean_score_time: 0.0032293750217982703\n",
      "std_score_time: 0.0010750233540739531\n",
      "mean_test_score: 0.8694812578561543\n",
      "std_test_score: 0.021087952488627028\n"
     ]
    }
   ],
   "source": [
    "grid_search(X_002, y, params)"
   ]
  },
  {
   "cell_type": "code",
   "execution_count": 53,
   "id": "pacific-notion",
   "metadata": {},
   "outputs": [],
   "source": [
    "params['max_depth'] = [4]\n",
    "params['min_samples_split'] = [4]\n",
    "params['min_samples_leaf'] = range(1,10,1)"
   ]
  },
  {
   "cell_type": "code",
   "execution_count": 54,
   "id": "editorial-tracy",
   "metadata": {},
   "outputs": [
    {
     "data": {
      "text/plain": [
       "{'learning_rate': [0.1],\n",
       " 'max_depth': [4],\n",
       " 'max_features': [6],\n",
       " 'min_samples_leaf': range(1, 10),\n",
       " 'min_samples_split': [4],\n",
       " 'n_estimators': [88],\n",
       " 'subsample': [0.8]}"
      ]
     },
     "execution_count": 54,
     "metadata": {},
     "output_type": "execute_result"
    }
   ],
   "source": [
    "params"
   ]
  },
  {
   "cell_type": "code",
   "execution_count": 55,
   "id": "solved-atmosphere",
   "metadata": {},
   "outputs": [
    {
     "name": "stdout",
     "output_type": "stream",
     "text": [
      "Metric: roc_auc\n",
      "Training score: 0.878\n",
      "Best params: {'learning_rate': 0.1, 'max_depth': 4, 'max_features': 6, 'min_samples_leaf': 2, 'min_samples_split': 4, 'n_estimators': 88, 'subsample': 0.8}\n",
      "\n",
      "\n",
      "mean_fit_time: 0.10870483186509874\n",
      "std_fit_time: 0.0097159312965995\n",
      "mean_score_time: 0.00301820437113444\n",
      "std_score_time: 0.0007932941971621134\n",
      "mean_test_score: 0.8724104353719667\n",
      "std_test_score: 0.020267709709362234\n"
     ]
    }
   ],
   "source": [
    "grid_search(X_002, y, params)"
   ]
  },
  {
   "cell_type": "code",
   "execution_count": 56,
   "id": "foreign-template",
   "metadata": {},
   "outputs": [],
   "source": [
    "params['min_samples_leaf'] = [2]\n",
    "params['max_features'] = range(1,7,1)"
   ]
  },
  {
   "cell_type": "code",
   "execution_count": 57,
   "id": "scheduled-viewer",
   "metadata": {},
   "outputs": [
    {
     "data": {
      "text/plain": [
       "{'learning_rate': [0.1],\n",
       " 'max_depth': [4],\n",
       " 'max_features': range(1, 7),\n",
       " 'min_samples_leaf': [2],\n",
       " 'min_samples_split': [4],\n",
       " 'n_estimators': [88],\n",
       " 'subsample': [0.8]}"
      ]
     },
     "execution_count": 57,
     "metadata": {},
     "output_type": "execute_result"
    }
   ],
   "source": [
    "params"
   ]
  },
  {
   "cell_type": "code",
   "execution_count": 58,
   "id": "present-election",
   "metadata": {},
   "outputs": [
    {
     "name": "stdout",
     "output_type": "stream",
     "text": [
      "Metric: roc_auc\n",
      "Training score: 0.878\n",
      "Best params: {'learning_rate': 0.1, 'max_depth': 4, 'max_features': 6, 'min_samples_leaf': 2, 'min_samples_split': 4, 'n_estimators': 88, 'subsample': 0.8}\n",
      "\n",
      "\n",
      "mean_fit_time: 0.09602309068044025\n",
      "std_fit_time: 0.008600492064011866\n",
      "mean_score_time: 0.0031512578328450522\n",
      "std_score_time: 0.0011730108552138571\n",
      "mean_test_score: 0.871438406804382\n",
      "std_test_score: 0.02403968078823128\n"
     ]
    }
   ],
   "source": [
    "grid_search(X_002, y, params)"
   ]
  },
  {
   "cell_type": "code",
   "execution_count": 59,
   "id": "becoming-madagascar",
   "metadata": {},
   "outputs": [],
   "source": [
    "params['max_features'] = [6]\n",
    "params['subsample'] = [0.6,0.7,0.75,0.8,0.85,0.9,1]"
   ]
  },
  {
   "cell_type": "code",
   "execution_count": 60,
   "id": "elementary-floor",
   "metadata": {},
   "outputs": [
    {
     "data": {
      "text/plain": [
       "{'learning_rate': [0.1],\n",
       " 'max_depth': [4],\n",
       " 'max_features': [6],\n",
       " 'min_samples_leaf': [2],\n",
       " 'min_samples_split': [4],\n",
       " 'n_estimators': [88],\n",
       " 'subsample': [0.6, 0.7, 0.75, 0.8, 0.85, 0.9, 1]}"
      ]
     },
     "execution_count": 60,
     "metadata": {},
     "output_type": "execute_result"
    }
   ],
   "source": [
    "params"
   ]
  },
  {
   "cell_type": "code",
   "execution_count": 61,
   "id": "leading-being",
   "metadata": {},
   "outputs": [
    {
     "name": "stdout",
     "output_type": "stream",
     "text": [
      "Metric: roc_auc\n",
      "Training score: 0.878\n",
      "Best params: {'learning_rate': 0.1, 'max_depth': 4, 'max_features': 6, 'min_samples_leaf': 2, 'min_samples_split': 4, 'n_estimators': 88, 'subsample': 0.8}\n",
      "\n",
      "\n",
      "mean_fit_time: 0.10951091221400669\n",
      "std_fit_time: 0.006931035560990509\n",
      "mean_score_time: 0.0028544970921107705\n",
      "std_score_time: 0.0007730246634623618\n",
      "mean_test_score: 0.8720055763901818\n",
      "std_test_score: 0.02011772573427356\n"
     ]
    }
   ],
   "source": [
    "grid_search(X_002, y, params)"
   ]
  },
  {
   "cell_type": "code",
   "execution_count": 62,
   "id": "noted-elevation",
   "metadata": {},
   "outputs": [],
   "source": [
    "params['subsample'] = [0.8]\n",
    "params['n_estimators'] = range(48, 144, 2)\n",
    "params['learning_rate'] = [0.001, 0.01, 0.1, 0.15, 0.2]"
   ]
  },
  {
   "cell_type": "code",
   "execution_count": 63,
   "id": "weekly-grenada",
   "metadata": {},
   "outputs": [
    {
     "data": {
      "text/plain": [
       "{'learning_rate': [0.001, 0.01, 0.1, 0.15, 0.2],\n",
       " 'max_depth': [4],\n",
       " 'max_features': [6],\n",
       " 'min_samples_leaf': [2],\n",
       " 'min_samples_split': [4],\n",
       " 'n_estimators': range(48, 144, 2),\n",
       " 'subsample': [0.8]}"
      ]
     },
     "execution_count": 63,
     "metadata": {},
     "output_type": "execute_result"
    }
   ],
   "source": [
    "params"
   ]
  },
  {
   "cell_type": "code",
   "execution_count": null,
   "id": "twenty-english",
   "metadata": {},
   "outputs": [],
   "source": [
    "grid_search(X_002, y, params)"
   ]
  },
  {
   "cell_type": "markdown",
   "id": "loaded-frost",
   "metadata": {},
   "source": [
    "## Modelo final"
   ]
  },
  {
   "cell_type": "code",
   "execution_count": null,
   "id": "approved-bookmark",
   "metadata": {},
   "outputs": [],
   "source": [
    "kfold = StratifiedKFold(n_splits=5, shuffle=True, random_state=SEED)\n",
    "final_model = GradientBoostingClassifier(\n",
    "    random_state=SEED, learning_rate=0.1, max_depth=4, max_features=6, min_samples_leaf=2, min_samples_split=4, \n",
    "    n_estimators=90, subsample=0.8)\n",
    "scores = cross_val_score(final_model, X, y, cv=kfold, n_jobs=-1, verbose=1, scoring='roc_auc')\n",
    "\n",
    "print('AUC:', np.round(scores, 2))\n",
    "print('AUC mean: %0.4f' % (scores.mean()))\n",
    "print('AUC std: %0.4f' % (scores.std()))"
   ]
  },
  {
   "cell_type": "code",
   "execution_count": null,
   "id": "nominated-minute",
   "metadata": {},
   "outputs": [],
   "source": [
    "final_model.fit(X_002, y)\n",
    "feat_imp = pd.Series(final_model.feature_importances_, best_feat).sort_values(ascending=False)\n",
    "feat_imp.plot(kind='bar', title='Feature Importances')\n",
    "plt.ylabel('Feature Importance Score')"
   ]
  },
  {
   "cell_type": "code",
   "execution_count": null,
   "id": "greenhouse-nursing",
   "metadata": {},
   "outputs": [],
   "source": [
    "df_test['Survived'] = final_model.predict(df_test[best_feat])"
   ]
  },
  {
   "cell_type": "code",
   "execution_count": null,
   "id": "expired-bible",
   "metadata": {},
   "outputs": [],
   "source": [
    "df_test['Survived'].value_counts()"
   ]
  },
  {
   "cell_type": "code",
   "execution_count": null,
   "id": "criminal-novel",
   "metadata": {},
   "outputs": [],
   "source": [
    "df_test[['PassengerId', 'Survived']].to_csv('gbm_002.csv', index=False)"
   ]
  },
  {
   "cell_type": "code",
   "execution_count": null,
   "id": "distributed-porcelain",
   "metadata": {},
   "outputs": [],
   "source": [
    "# kaggle score: 0.76076"
   ]
  },
  {
   "cell_type": "markdown",
   "id": "artificial-charm",
   "metadata": {},
   "source": [
    "# Modelo 003"
   ]
  },
  {
   "cell_type": "markdown",
   "id": "improving-gambling",
   "metadata": {},
   "source": [
    "## Base"
   ]
  },
  {
   "cell_type": "code",
   "execution_count": null,
   "id": "wound-spell",
   "metadata": {},
   "outputs": [],
   "source": [
    "kfold = StratifiedKFold(n_splits=5, shuffle=True, random_state=SEED)\n",
    "model = GradientBoostingClassifier(\n",
    "    random_state=SEED, learning_rate=0.1, max_depth=4, max_features=15, min_samples_leaf=1, min_samples_split=2, \n",
    "    n_estimators=64, subsample=0.8)\n",
    "scores = cross_val_score(model, X, y, cv=kfold, n_jobs=-1, verbose=1, scoring='roc_auc')\n",
    "\n",
    "print('AUC:', np.round(scores, 2))\n",
    "print('AUC mean: %0.4f' % (scores.mean()))\n",
    "print('AUC std: %0.4f' % (scores.std()))"
   ]
  },
  {
   "cell_type": "code",
   "execution_count": null,
   "id": "recorded-adventure",
   "metadata": {},
   "outputs": [],
   "source": [
    "len(y)"
   ]
  },
  {
   "cell_type": "code",
   "execution_count": null,
   "id": "interpreted-prison",
   "metadata": {},
   "outputs": [],
   "source": [
    "model.fit(X, y)\n",
    "pred = model.predict(X)\n",
    "prob = model.predict_proba(X)[:,1]\n",
    "\n",
    "auc = roc_auc_score(y, prob)\n",
    "fpr, tpr, thresholds = roc_curve(y, prob)"
   ]
  },
  {
   "cell_type": "code",
   "execution_count": null,
   "id": "cross-occupation",
   "metadata": {},
   "outputs": [],
   "source": [
    "plt.plot([0,1], [0,1], linestyle='--')\n",
    "plt.plot(fpr, tpr, marker='.', label='GBM')\n",
    "plt.xlabel('False Positive Rate')\n",
    "plt.ylabel('True Positive Rate')\n",
    "plt.legend()"
   ]
  },
  {
   "cell_type": "code",
   "execution_count": null,
   "id": "julian-departure",
   "metadata": {},
   "outputs": [],
   "source": [
    "# Sensitivity = tpr\n",
    "# Specificity = 1 – fpr"
   ]
  },
  {
   "cell_type": "code",
   "execution_count": null,
   "id": "laden-triple",
   "metadata": {},
   "outputs": [],
   "source": [
    "df_train['Survived'].value_counts(normalize=True)"
   ]
  },
  {
   "cell_type": "markdown",
   "id": "cordless-finance",
   "metadata": {},
   "source": [
    "## Thresolds"
   ]
  },
  {
   "cell_type": "markdown",
   "id": "hydraulic-cattle",
   "metadata": {},
   "source": [
    "### G-mean"
   ]
  },
  {
   "cell_type": "code",
   "execution_count": null,
   "id": "agreed-equipment",
   "metadata": {},
   "outputs": [],
   "source": [
    "gmeans = np.sqrt(tpr * (1-fpr))"
   ]
  },
  {
   "cell_type": "code",
   "execution_count": null,
   "id": "nutritional-sampling",
   "metadata": {},
   "outputs": [],
   "source": [
    "ix = np.argmax(gmeans)\n",
    "print('Best Threshold=%f, G-Mean=%.3f' % (thresholds[ix], gmeans[ix]))"
   ]
  },
  {
   "cell_type": "code",
   "execution_count": null,
   "id": "recreational-alpha",
   "metadata": {},
   "outputs": [],
   "source": [
    "plt.plot([0,1], [0,1], linestyle='--')\n",
    "plt.scatter(fpr[ix], tpr[ix], marker='o', color='black', label='Best threshold')\n",
    "plt.plot(fpr, tpr, marker='.', label='GBM')\n",
    "plt.xlabel('False Positive Rate')\n",
    "plt.ylabel('True Positive Rate')\n",
    "plt.legend()"
   ]
  },
  {
   "cell_type": "markdown",
   "id": "armed-syndrome",
   "metadata": {},
   "source": [
    "### Youden’s J statistic."
   ]
  },
  {
   "cell_type": "code",
   "execution_count": null,
   "id": "patent-imaging",
   "metadata": {},
   "outputs": [],
   "source": [
    "# J = Sensitivity + Specificity – 1\n",
    "# J = Sensitivity + (1 – FalsePositiveRate) – 1\n",
    "# J = TruePositiveRate – FalsePositiveRate"
   ]
  },
  {
   "cell_type": "code",
   "execution_count": null,
   "id": "optimum-ethernet",
   "metadata": {},
   "outputs": [],
   "source": [
    "J = tpr - fpr\n",
    "ix = np.argmax(J)\n",
    "print('Best Threshold=%f' % (thresholds[ix]))"
   ]
  },
  {
   "cell_type": "markdown",
   "id": "concrete-assist",
   "metadata": {},
   "source": [
    "### Precision-Recall curve"
   ]
  },
  {
   "cell_type": "code",
   "execution_count": null,
   "id": "painted-palmer",
   "metadata": {},
   "outputs": [],
   "source": [
    "precision, recall, thresholds = precision_recall_curve(y, prob)"
   ]
  },
  {
   "cell_type": "code",
   "execution_count": null,
   "id": "cleared-diamond",
   "metadata": {},
   "outputs": [],
   "source": [
    "# plot the roc curve for the model\n",
    "no_skill = len(y[y]) / len(y)\n",
    "plt.plot([0,1], [no_skill,no_skill], linestyle='--')\n",
    "plt.plot(recall, precision, marker='.', label='GBM')\n",
    "plt.xlabel('Recall')\n",
    "plt.ylabel('Precision')\n",
    "plt.legend()"
   ]
  },
  {
   "cell_type": "code",
   "execution_count": null,
   "id": "historic-handbook",
   "metadata": {},
   "outputs": [],
   "source": [
    "fscore = (2 * precision * recall) / (precision + recall)"
   ]
  },
  {
   "cell_type": "code",
   "execution_count": null,
   "id": "tired-intake",
   "metadata": {},
   "outputs": [],
   "source": [
    "ix = np.argmax(fscore)\n",
    "print('Best Threshold=%f, F-Score=%.3f' % (thresholds[ix], fscore[ix]))"
   ]
  },
  {
   "cell_type": "code",
   "execution_count": null,
   "id": "restricted-republic",
   "metadata": {},
   "outputs": [],
   "source": [
    "no_skill = len(y[y]) / len(y)\n",
    "plt.plot([0,1], [no_skill,no_skill], linestyle='--')\n",
    "plt.scatter(recall[ix], precision[ix], marker='o', color='black', label='Best thresold')\n",
    "plt.plot(recall, precision, marker='.', label='GBM')\n",
    "plt.xlabel('Recall')\n",
    "plt.ylabel('Precision')\n",
    "plt.legend()"
   ]
  },
  {
   "cell_type": "markdown",
   "id": "smaller-employee",
   "metadata": {},
   "source": [
    "### Comparing"
   ]
  },
  {
   "cell_type": "code",
   "execution_count": null,
   "id": "collaborative-contribution",
   "metadata": {},
   "outputs": [],
   "source": [
    "# Deafault:\n",
    "pred = model.predict(X)\n",
    "prob = model.predict_proba(X)[:,1]\n",
    "print(\"Sensitivity:\", recall_score(y, pred))\n",
    "print(\"Specificity:\", recall_score(y, pred, pos_label=0))\n",
    "print(\"Accuracy:\", accuracy_score(y, pred))"
   ]
  },
  {
   "cell_type": "code",
   "execution_count": null,
   "id": "purple-synthesis",
   "metadata": {},
   "outputs": [],
   "source": [
    "# Optimum threshold:\n",
    "thresh = 0.468451\n",
    "opt_pred = np.where(prob > thresh, 1, 0)\n",
    "print(\"Sensitivity:\", recall_score(y, opt_pred))\n",
    "print(\"Specificity:\", recall_score(y, opt_pred, pos_label=0))\n",
    "print(\"Accuracy:\", accuracy_score(y, opt_pred))"
   ]
  },
  {
   "cell_type": "markdown",
   "id": "massive-glenn",
   "metadata": {},
   "source": [
    "## Final"
   ]
  },
  {
   "cell_type": "code",
   "execution_count": null,
   "id": "connected-aside",
   "metadata": {},
   "outputs": [],
   "source": [
    "final_proba = model.predict_proba(df_test[features])[:,1]\n",
    "df_test['Survived'] = np.where(final_proba > thresh, 1, 0)"
   ]
  },
  {
   "cell_type": "code",
   "execution_count": null,
   "id": "sitting-astronomy",
   "metadata": {},
   "outputs": [],
   "source": [
    "df_test['Survived'].value_counts()"
   ]
  },
  {
   "cell_type": "code",
   "execution_count": null,
   "id": "broadband-responsibility",
   "metadata": {},
   "outputs": [],
   "source": [
    "df_test[['PassengerId', 'Survived']].to_csv('gbm_003.csv', index=False)"
   ]
  },
  {
   "cell_type": "code",
   "execution_count": null,
   "id": "structural-laser",
   "metadata": {},
   "outputs": [],
   "source": [
    "# Kaggle score: 0.76794"
   ]
  },
  {
   "cell_type": "code",
   "execution_count": null,
   "id": "exciting-mainstream",
   "metadata": {},
   "outputs": [],
   "source": []
  }
 ],
 "metadata": {
  "kernelspec": {
   "display_name": "Python 3",
   "language": "python",
   "name": "python3"
  },
  "language_info": {
   "codemirror_mode": {
    "name": "ipython",
    "version": 3
   },
   "file_extension": ".py",
   "mimetype": "text/x-python",
   "name": "python",
   "nbconvert_exporter": "python",
   "pygments_lexer": "ipython3",
   "version": "3.8.5"
  }
 },
 "nbformat": 4,
 "nbformat_minor": 5
}
